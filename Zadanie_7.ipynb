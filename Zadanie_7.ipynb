{
 "cells": [
  {
   "cell_type": "code",
   "execution_count": 1,
   "metadata": {},
   "outputs": [],
   "source": [
    "import numpy as np\n",
    "import matplotlib.pyplot as plt"
   ]
  },
  {
   "cell_type": "code",
   "execution_count": 2,
   "metadata": {},
   "outputs": [],
   "source": [
    "#wyznaczanie zbiorów xi i yi\n",
    "# f(x) = 1/(1+np.exp(-x))\n",
    "xi = [x for x in range(-5,6)]\n",
    "yi = [[1/(1+np.exp(-x))] for x in xi]"
   ]
  },
  {
   "cell_type": "code",
   "execution_count": 3,
   "metadata": {},
   "outputs": [
    {
     "name": "stdout",
     "output_type": "stream",
     "text": [
      "[[   11     0   110     0]\n",
      " [    0   110     0  1958]\n",
      " [  110     0  1958     0]\n",
      " [    0  1958     0 41030]]\n",
      "\n",
      "[[  5.5       ]\n",
      " [ 13.48993204]\n",
      " [ 55.        ]\n",
      " [216.01842565]]\n"
     ]
    }
   ],
   "source": [
    "#inicjowanie macierzy M i MTransponowane, wylicznie macierzy A i B\n",
    "MT = np.vstack((np.array([1 for _ in range(11)]),xi,[x**2 for x in xi], [x**3 for x in xi]))\n",
    "M = MT.transpose()\n",
    "A = np.matmul(MT,M)\n",
    "B = np.matmul(MT, yi)\n",
    "print(A)\n",
    "print()\n",
    "print(B)"
   ]
  },
  {
   "cell_type": "code",
   "execution_count": 4,
   "metadata": {},
   "outputs": [
    {
     "name": "stdout",
     "output_type": "stream",
     "text": [
      "[1.89242561e-17]\n"
     ]
    }
   ],
   "source": [
    "a=[0.5,0.192,0,-0.004]\n",
    "#p(x) = a[0] + a[1]x + a[2]x^2 + a[3]x^3\n",
    "yp= [[a[0] + a[1]*x + a[2]*(x**2) + (a[3]*x**3)] for x in xi]\n",
    "difference = np.subtract((yi),(yp))\n",
    "approximation_error = sum(difference)/ len(xi)\n",
    "print(approximation_error)"
   ]
  },
  {
   "cell_type": "code",
   "execution_count": 5,
   "metadata": {
    "scrolled": true
   },
   "outputs": [
    {
     "data": {
      "text/plain": [
       "<matplotlib.legend.Legend at 0x2c30213a220>"
      ]
     },
     "execution_count": 5,
     "metadata": {},
     "output_type": "execute_result"
    },
    {
     "data": {
      "image/png": "[encoded data removed]",
      "text/plain": [
       "<Figure size 432x288 with 1 Axes>"
      ]
     },
     "metadata": {
      "needs_background": "light"
     },
     "output_type": "display_data"
    }
   ],
   "source": [
    "plt.plot(xi,yi,xi, yp)\n",
    "plt.legend(['f(x)','p(x)'])"
   ]
  }
 ],
 "metadata": {
  "kernelspec": {
   "display_name": "Python 3",
   "language": "python",
   "name": "python3"
  },
  "language_info": {
   "codemirror_mode": {
    "name": "ipython",
    "version": 3
   },
   "file_extension": ".py",
   "mimetype": "text/x-python",
   "name": "python",
   "nbconvert_exporter": "python",
   "pygments_lexer": "ipython3",
   "version": "3.8.3"
  }
 },
 "nbformat": 4,
 "nbformat_minor": 4
}
