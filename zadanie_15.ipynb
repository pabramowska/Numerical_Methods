{
 "cells": [
  {
   "cell_type": "code",
   "execution_count": 1,
   "metadata": {},
   "outputs": [],
   "source": [
    "import numpy as np\n",
    "import matplotlib.pyplot as plt"
   ]
  },
  {
   "cell_type": "code",
   "execution_count": 2,
   "metadata": {},
   "outputs": [],
   "source": [
    "def f(x):\n",
    "    return 0.2 + 0.05*x + 1/(1+np.exp(-2*(x-1))) - 1/(1+np.exp(-3*x))"
   ]
  },
  {
   "cell_type": "code",
   "execution_count": 3,
   "metadata": {},
   "outputs": [],
   "source": [
    "a = -5\n",
    "b = 5\n",
    "h = 0.1\n",
    "e = 1e-6\n",
    "x = np.arange(a,b+1,h)\n",
    "y = np.array([f(x) for x in x])"
   ]
  },
  {
   "cell_type": "code",
   "execution_count": 4,
   "metadata": {},
   "outputs": [],
   "source": [
    "#definiowanie funkcji bisekcji\n",
    "def bisection(a,b,e):\n",
    "    \n",
    "    while abs(a-b)>=e:\n",
    "        fa = f(a)\n",
    "        fb = f(b)\n",
    "        p = (a+b)/2\n",
    "        fp = f(p)\n",
    "        if fa*fp<0:\n",
    "            b=p\n",
    "        else:\n",
    "            a=p\n",
    "    return a"
   ]
  },
  {
   "cell_type": "markdown",
   "metadata": {},
   "source": [
    "Funkcja zmienia znak w przedziałach <-5;-4>  <-1;0>  <1;2>"
   ]
  },
  {
   "cell_type": "code",
   "execution_count": 5,
   "metadata": {},
   "outputs": [],
   "source": [
    "a1,b1 = -5,-4\n",
    "a2,b2 = -1,0\n",
    "a3,b3 = 1,2\n",
    "x0 = []\n",
    "x0.append(bisection(a1,b1,e))\n",
    "x0.append(bisection(a2,b2,e))\n",
    "x0.append(bisection(a3,b3,e))"
   ]
  },
  {
   "cell_type": "code",
   "execution_count": 6,
   "metadata": {},
   "outputs": [
    {
     "data": {
      "text/plain": [
       "<matplotlib.collections.PathCollection at 0x2c5a8616460>"
      ]
     },
     "execution_count": 6,
     "metadata": {},
     "output_type": "execute_result"
    },
    {
     "data": {
      "image/png": "[encoded data removed]",
      "text/plain": [
       "<Figure size 432x288 with 1 Axes>"
      ]
     },
     "metadata": {
      "needs_background": "light"
     },
     "output_type": "display_data"
    }
   ],
   "source": [
    "plt.plot(x,y)\n",
    "plt.axhline(0, c='k', alpha=0.3)\n",
    "plt.scatter(x0,[0,0,0])"
   ]
  }
 ],
 "metadata": {
  "kernelspec": {
   "display_name": "Python 3",
   "language": "python",
   "name": "python3"
  },
  "language_info": {
   "codemirror_mode": {
    "name": "ipython",
    "version": 3
   },
   "file_extension": ".py",
   "mimetype": "text/x-python",
   "name": "python",
   "nbconvert_exporter": "python",
   "pygments_lexer": "ipython3",
   "version": "3.8.3"
  }
 },
 "nbformat": 4,
 "nbformat_minor": 4
}
